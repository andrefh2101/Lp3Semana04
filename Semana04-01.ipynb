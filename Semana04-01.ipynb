{
 "cells": [
  {
   "cell_type": "raw",
   "id": "91f9e2b7-c1f8-468d-afdf-fb75e1cc803d",
   "metadata": {},
   "source": [
    "# SEMANA 04\n",
    "Andre Fernandez"
   ]
  },
  {
   "cell_type": "raw",
   "id": "e984ac3f-f0aa-4996-9584-609903b8c982",
   "metadata": {},
   "source": [
    "Agenda\n",
    "1. Números\n",
    "2. Variables\n",
    "3. Manejo de Cadenas\n",
    "4. Ingreso por el Teclado\n",
    "5. Operadores"
   ]
  },
  {
   "cell_type": "code",
   "execution_count": 2,
   "id": "18222d51-ce20-481b-84bd-b33b7dbdb308",
   "metadata": {},
   "outputs": [
    {
     "data": {
      "text/plain": [
       "16"
      ]
     },
     "execution_count": 2,
     "metadata": {},
     "output_type": "execute_result"
    }
   ],
   "source": [
    "7+9"
   ]
  },
  {
   "cell_type": "code",
   "execution_count": 3,
   "id": "0fce7829-aad8-4fe0-a548-5f2cc0de3dae",
   "metadata": {},
   "outputs": [
    {
     "data": {
      "text/plain": [
       "11"
      ]
     },
     "execution_count": 3,
     "metadata": {},
     "output_type": "execute_result"
    }
   ],
   "source": [
    "36-25"
   ]
  },
  {
   "cell_type": "code",
   "execution_count": 4,
   "id": "3b22d4cf-55c3-470d-ba2d-032b76e08638",
   "metadata": {},
   "outputs": [
    {
     "data": {
      "text/plain": [
       "280"
      ]
     },
     "execution_count": 4,
     "metadata": {},
     "output_type": "execute_result"
    }
   ],
   "source": [
    "35*8"
   ]
  },
  {
   "cell_type": "code",
   "execution_count": 5,
   "id": "39c0b94f-0d47-4014-9d61-00043c3bc215",
   "metadata": {},
   "outputs": [
    {
     "data": {
      "text/plain": [
       "8.0"
      ]
     },
     "execution_count": 5,
     "metadata": {},
     "output_type": "execute_result"
    }
   ],
   "source": [
    "72/9"
   ]
  },
  {
   "cell_type": "code",
   "execution_count": null,
   "id": "5e388d73-7080-4f16-bef3-c95711c6ba73",
   "metadata": {},
   "outputs": [],
   "source": []
  }
 ],
 "metadata": {
  "kernelspec": {
   "display_name": "Python 3 (ipykernel)",
   "language": "python",
   "name": "python3"
  },
  "language_info": {
   "codemirror_mode": {
    "name": "ipython",
    "version": 3
   },
   "file_extension": ".py",
   "mimetype": "text/x-python",
   "name": "python",
   "nbconvert_exporter": "python",
   "pygments_lexer": "ipython3",
   "version": "3.11.7"
  }
 },
 "nbformat": 4,
 "nbformat_minor": 5
}
