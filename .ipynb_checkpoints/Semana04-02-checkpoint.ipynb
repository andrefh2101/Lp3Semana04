{
 "cells": [
  {
   "cell_type": "raw",
   "id": "8b896010-18ea-410c-b140-f787541f6a6e",
   "metadata": {},
   "source": [
    "Agenda\n",
    "1.Numeros\n",
    "2.Variables\n",
    "3.Manejo de cadenas\n",
    "4.Ingreso por el teclado\n",
    "5.Operadoress"
   ]
  },
  {
   "cell_type": "raw",
   "id": "c80f6327-2607-4932-ae38-e23709bcf32a",
   "metadata": {},
   "source": [
    "2.Variables"
   ]
  },
  {
   "cell_type": "code",
   "execution_count": 1,
   "id": "59f9e73a-a8ca-4b81-aadc-f36e30aa0635",
   "metadata": {},
   "outputs": [],
   "source": [
    "#Se debe iniciar siempre con una letra o un guin abajo. (Nunca con un numero u otro simbolo)\n"
   ]
  },
  {
   "cell_type": "code",
   "execution_count": 2,
   "id": "f0860f20-e8fa-42fd-8656-1449c106f91e",
   "metadata": {},
   "outputs": [],
   "source": [
    "edad = 21"
   ]
  },
  {
   "cell_type": "code",
   "execution_count": 3,
   "id": "4b98377d-735d-41d6-b190-63a163226e95",
   "metadata": {},
   "outputs": [
    {
     "data": {
      "text/plain": [
       "21"
      ]
     },
     "execution_count": 3,
     "metadata": {},
     "output_type": "execute_result"
    }
   ],
   "source": [
    "edad"
   ]
  },
  {
   "cell_type": "code",
   "execution_count": 4,
   "id": "04874d41-adbe-48a2-ba11-4ca24c67d59c",
   "metadata": {},
   "outputs": [],
   "source": [
    "nombre = \"Andre Fernandez\""
   ]
  },
  {
   "cell_type": "code",
   "execution_count": 5,
   "id": "264f1a7b-b46b-4050-a6b5-4f284503d5ef",
   "metadata": {},
   "outputs": [
    {
     "data": {
      "text/plain": [
       "'Andre Fernandez'"
      ]
     },
     "execution_count": 5,
     "metadata": {},
     "output_type": "execute_result"
    }
   ],
   "source": [
    "nombre"
   ]
  },
  {
   "cell_type": "code",
   "execution_count": 6,
   "id": "814db53f-ca04-41cb-8a8e-94b59fce7e19",
   "metadata": {},
   "outputs": [],
   "source": [
    "apellido = \"Fernandez Huaman\""
   ]
  },
  {
   "cell_type": "code",
   "execution_count": 7,
   "id": "c8581e87-b028-485f-aec9-c0114034ed99",
   "metadata": {},
   "outputs": [
    {
     "data": {
      "text/plain": [
       "'Fernandez Huaman'"
      ]
     },
     "execution_count": 7,
     "metadata": {},
     "output_type": "execute_result"
    }
   ],
   "source": [
    "apellido"
   ]
  },
  {
   "cell_type": "code",
   "execution_count": 8,
   "id": "7f23b974-8a4c-4d71-bfc7-c8527cfe0ef7",
   "metadata": {},
   "outputs": [],
   "source": [
    "nombrecompleto = nombre + \" \" + apellido"
   ]
  },
  {
   "cell_type": "code",
   "execution_count": 9,
   "id": "6fccbbaa-d9ba-41d2-a013-4dfd47915746",
   "metadata": {},
   "outputs": [
    {
     "data": {
      "text/plain": [
       "'Andre Fernandez Fernandez Huaman'"
      ]
     },
     "execution_count": 9,
     "metadata": {},
     "output_type": "execute_result"
    }
   ],
   "source": [
    "nombrecompleto"
   ]
  },
  {
   "cell_type": "code",
   "execution_count": 10,
   "id": "c2894fa6-1b62-4d94-8d36-99940333e36f",
   "metadata": {},
   "outputs": [
    {
     "data": {
      "text/plain": [
       "int"
      ]
     },
     "execution_count": 10,
     "metadata": {},
     "output_type": "execute_result"
    }
   ],
   "source": [
    "#Para saber el tipo de variable utlizamos la funcion type\n",
    "#Por ejemplo\n",
    "numero =  50\n",
    "type(numero)"
   ]
  },
  {
   "cell_type": "code",
   "execution_count": 11,
   "id": "e944454c-877c-415a-bea8-722d88f47447",
   "metadata": {},
   "outputs": [],
   "source": [
    "talla = 1.66"
   ]
  },
  {
   "cell_type": "code",
   "execution_count": 12,
   "id": "89aa7e51-db3c-4fdc-850a-49186ef4468a",
   "metadata": {},
   "outputs": [
    {
     "data": {
      "text/plain": [
       "1.66"
      ]
     },
     "execution_count": 12,
     "metadata": {},
     "output_type": "execute_result"
    }
   ],
   "source": [
    "talla"
   ]
  },
  {
   "cell_type": "code",
   "execution_count": 13,
   "id": "0f866a58-3cff-4327-ba09-b127938d0aae",
   "metadata": {},
   "outputs": [
    {
     "data": {
      "text/plain": [
       "float"
      ]
     },
     "execution_count": 13,
     "metadata": {},
     "output_type": "execute_result"
    }
   ],
   "source": [
    "type(talla)"
   ]
  },
  {
   "cell_type": "code",
   "execution_count": 14,
   "id": "9c5811bf-53a6-4977-9bc0-ee67524c2c51",
   "metadata": {},
   "outputs": [
    {
     "data": {
      "text/plain": [
       "'100'"
      ]
     },
     "execution_count": 14,
     "metadata": {},
     "output_type": "execute_result"
    }
   ],
   "source": [
    "numero = 100\n",
    "cadena  = str(numero)\n",
    "cadena"
   ]
  },
  {
   "cell_type": "code",
   "execution_count": 15,
   "id": "d8ea744a-7836-44e4-99aa-31f647599b73",
   "metadata": {},
   "outputs": [
    {
     "data": {
      "text/plain": [
       "50"
      ]
     },
     "execution_count": 15,
     "metadata": {},
     "output_type": "execute_result"
    }
   ],
   "source": [
    "#Para convertir una cadena a un entero utilixamos float()\n",
    "cadena2 = \"50\"\n",
    "numero2 = int(cadena2)\n",
    "numero2"
   ]
  },
  {
   "cell_type": "code",
   "execution_count": 16,
   "id": "f129acf0-f6e3-4e88-a7e4-b40b1612c6f9",
   "metadata": {},
   "outputs": [
    {
     "data": {
      "text/plain": [
       "int"
      ]
     },
     "execution_count": 16,
     "metadata": {},
     "output_type": "execute_result"
    }
   ],
   "source": [
    "type(numero2)"
   ]
  },
  {
   "cell_type": "code",
   "execution_count": 17,
   "id": "f9166e63-a49d-4546-82ef-3b3abe71034f",
   "metadata": {},
   "outputs": [
    {
     "data": {
      "text/plain": [
       "50.0"
      ]
     },
     "execution_count": 17,
     "metadata": {},
     "output_type": "execute_result"
    }
   ],
   "source": [
    "#Para convertir una cadena a un decimal utilixamos float()\n",
    "cadena2 = \"50\"\n",
    "numero2 = float(cadena2)\n",
    "numero2"
   ]
  },
  {
   "cell_type": "code",
   "execution_count": null,
   "id": "c313839e-3269-4779-a542-89812ed4c73d",
   "metadata": {},
   "outputs": [],
   "source": []
  }
 ],
 "metadata": {
  "kernelspec": {
   "display_name": "Python 3 (ipykernel)",
   "language": "python",
   "name": "python3"
  },
  "language_info": {
   "codemirror_mode": {
    "name": "ipython",
    "version": 3
   },
   "file_extension": ".py",
   "mimetype": "text/x-python",
   "name": "python",
   "nbconvert_exporter": "python",
   "pygments_lexer": "ipython3",
   "version": "3.11.7"
  }
 },
 "nbformat": 4,
 "nbformat_minor": 5
}
