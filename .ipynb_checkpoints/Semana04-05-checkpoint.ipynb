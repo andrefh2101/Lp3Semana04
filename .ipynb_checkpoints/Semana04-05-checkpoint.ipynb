{
 "cells": [
  {
   "cell_type": "raw",
   "id": "a07d3500-8dd6-44ae-859c-40b307f0e108",
   "metadata": {},
   "source": [
    "Temas:\n",
    "\n",
    "1. Números,\n",
    "2. Variables,\n",
    "3. Manejo de Cadenas,\n",
    "4. Ingreso de datos por teclado\n",
    "5. Operadores"
   ]
  },
  {
   "cell_type": "raw",
   "id": "8095b6bb-7c2e-474b-b838-60e2b643c1f3",
   "metadata": {},
   "source": [
    "5. Operadores"
   ]
  },
  {
   "cell_type": "code",
   "execution_count": 2,
   "id": "577d3350-42aa-4288-97fd-8a3156f2fc33",
   "metadata": {},
   "outputs": [],
   "source": [
    "# 5.1 Operadores aritméticos\n",
    "# Se tiene: +, -, *, /, **, %, //"
   ]
  },
  {
   "cell_type": "code",
   "execution_count": 8,
   "id": "711de36c-5a0b-4ecb-a45c-fc021b8beb1d",
   "metadata": {},
   "outputs": [
    {
     "name": "stdout",
     "output_type": "stream",
     "text": [
      "23\n",
      "-3\n",
      "130\n",
      "0.7692307692307693\n",
      "10\n",
      "0\n",
      "10000000000000\n"
     ]
    }
   ],
   "source": [
    "numero1 = 10\n",
    "numero2 = 13\n",
    "suma = numero1 + numero2\n",
    "resta = numero1 - numero2\n",
    "multi = numero1 * numero2\n",
    "div = numero1 / numero2\n",
    "residuo = numero1 % numero2\n",
    "cociente = numero1 // numero2\n",
    "potencia = numero1 ** numero2\n",
    "print(suma)\n",
    "print(resta)\n",
    "print(multi)\n",
    "print(div)\n",
    "print(residuo)\n",
    "print(cociente)\n",
    "print(potencia)"
   ]
  },
  {
   "cell_type": "code",
   "execution_count": 9,
   "id": "66a2a996-36ce-4895-902c-fc3cb2a43a20",
   "metadata": {},
   "outputs": [
    {
     "name": "stdout",
     "output_type": "stream",
     "text": [
      "13\n"
     ]
    }
   ],
   "source": [
    "# 5.2 Operadores de asignación\n",
    "numero = 10\n",
    "numero = numero + 3\n",
    "print(numero)"
   ]
  },
  {
   "cell_type": "code",
   "execution_count": 10,
   "id": "c29bd982-84f1-40d8-9465-a2cd8de08b59",
   "metadata": {},
   "outputs": [
    {
     "name": "stdout",
     "output_type": "stream",
     "text": [
      "10\n"
     ]
    }
   ],
   "source": [
    "numero = 7\n",
    "numero += 3\n",
    "print(numero)"
   ]
  },
  {
   "cell_type": "code",
   "execution_count": 11,
   "id": "783e3554-c5b8-4c12-8297-5cdb86bc44f3",
   "metadata": {},
   "outputs": [
    {
     "name": "stdout",
     "output_type": "stream",
     "text": [
      "125\n"
     ]
    }
   ],
   "source": [
    "numero = 5\n",
    "numero = numero ** 3\n",
    "print(numero)"
   ]
  },
  {
   "cell_type": "code",
   "execution_count": 12,
   "id": "2f8aaa8e-0ded-49c9-a505-99a07af1a06c",
   "metadata": {},
   "outputs": [],
   "source": [
    "# 5.3 Operadores de comparación"
   ]
  },
  {
   "cell_type": "code",
   "execution_count": 13,
   "id": "bd79b16c-22a1-415f-a8ef-2ab6b685003f",
   "metadata": {},
   "outputs": [
    {
     "data": {
      "text/plain": [
       "False"
      ]
     },
     "execution_count": 13,
     "metadata": {},
     "output_type": "execute_result"
    }
   ],
   "source": [
    "# Ejemplo de igualdad ==\n",
    "numero1 = 6\n",
    "numero2 = 5\n",
    "numero1 == numero2"
   ]
  },
  {
   "cell_type": "code",
   "execution_count": 14,
   "id": "5532e066-9bfa-427e-88f9-25ba88caea4a",
   "metadata": {},
   "outputs": [
    {
     "data": {
      "text/plain": [
       "True"
      ]
     },
     "execution_count": 14,
     "metadata": {},
     "output_type": "execute_result"
    }
   ],
   "source": [
    "# Con las cadenas funciona igual\n",
    "nombre1 = \"Andre\"\n",
    "nombre2 = \"Andre\"\n",
    "nombre1 == nombre2"
   ]
  },
  {
   "cell_type": "code",
   "execution_count": 15,
   "id": "873feacb-9d11-4535-8462-1b3c19e44fb3",
   "metadata": {},
   "outputs": [],
   "source": [
    "# 5.4 Operadores lógicos\n",
    "# Se tiene: and, or, not\n",
    "numero1 = 3\n",
    "numero2 = 4\n",
    "numero3 = 5\n",
    "numero4 = 6"
   ]
  },
  {
   "cell_type": "code",
   "execution_count": 16,
   "id": "18463876-a188-4a9b-8c7e-5680cf1b70bc",
   "metadata": {},
   "outputs": [
    {
     "data": {
      "text/plain": [
       "True"
      ]
     },
     "execution_count": 16,
     "metadata": {},
     "output_type": "execute_result"
    }
   ],
   "source": [
    "numero1 < numero2"
   ]
  },
  {
   "cell_type": "code",
   "execution_count": 17,
   "id": "b9e72abc-7c00-4053-b383-705544e81522",
   "metadata": {},
   "outputs": [
    {
     "data": {
      "text/plain": [
       "False"
      ]
     },
     "execution_count": 17,
     "metadata": {},
     "output_type": "execute_result"
    }
   ],
   "source": [
    "# El not invierte el resultado\n",
    "not(numero1<numero2)"
   ]
  },
  {
   "cell_type": "code",
   "execution_count": 18,
   "id": "3cea0445-207a-46fa-9b46-bfba02ef4c05",
   "metadata": {},
   "outputs": [],
   "source": [
    "aula = [\"Juan\", \"Daniel\", \"Ruben\"]\n",
    "alumno1 = \"Diego\"\n",
    "alumno2 = \"Juan\""
   ]
  },
  {
   "cell_type": "code",
   "execution_count": 19,
   "id": "21ce28c1-ac3f-49c6-b2b0-ef32e1f36795",
   "metadata": {},
   "outputs": [
    {
     "data": {
      "text/plain": [
       "False"
      ]
     },
     "execution_count": 19,
     "metadata": {},
     "output_type": "execute_result"
    }
   ],
   "source": [
    "# ¿Diego está en aula?\n",
    "alumno1 in aula"
   ]
  },
  {
   "cell_type": "code",
   "execution_count": 20,
   "id": "d8a8c5b7-c099-4c09-aa60-efed0daa7774",
   "metadata": {},
   "outputs": [
    {
     "data": {
      "text/plain": [
       "True"
      ]
     },
     "execution_count": 20,
     "metadata": {},
     "output_type": "execute_result"
    }
   ],
   "source": [
    "# ¿Juan está en aula?\n",
    "alumno2 in aula"
   ]
  },
  {
   "cell_type": "code",
   "execution_count": 21,
   "id": "8d4cceec-cb26-4ac1-8057-6a1daf0421cc",
   "metadata": {},
   "outputs": [
    {
     "data": {
      "text/plain": [
       "True"
      ]
     },
     "execution_count": 21,
     "metadata": {},
     "output_type": "execute_result"
    }
   ],
   "source": [
    "# ¿Diego no está en aula?\n",
    "alumno1 not in aula"
   ]
  },
  {
   "cell_type": "code",
   "execution_count": 22,
   "id": "7b84500a-3e0f-4a0f-a1f2-caa2b784e8ce",
   "metadata": {},
   "outputs": [],
   "source": [
    "aula1 = [\"Maria\", \"Alvaro\", \"Rubi\"]\n",
    "aula2 = [\"Maria\", \"Alvaro\", \"Rubi\"]\n",
    "# A continuación vamos a indicar que aula3 va a\n",
    "# compartir el mismo objeto que aula1\n",
    "aula3 = aula1"
   ]
  },
  {
   "cell_type": "code",
   "execution_count": 23,
   "id": "da2c382b-12f1-42eb-bac2-15bb3382fdca",
   "metadata": {},
   "outputs": [
    {
     "data": {
      "text/plain": [
       "True"
      ]
     },
     "execution_count": 23,
     "metadata": {},
     "output_type": "execute_result"
    }
   ],
   "source": [
    "# ¿aula3 comparte el mismo objeto que aula1 ?\n",
    "aula3 is aula1"
   ]
  },
  {
   "cell_type": "code",
   "execution_count": null,
   "id": "2736e050-2da7-4075-80dc-43f3c50d860a",
   "metadata": {},
   "outputs": [],
   "source": []
  }
 ],
 "metadata": {
  "kernelspec": {
   "display_name": "Python 3 (ipykernel)",
   "language": "python",
   "name": "python3"
  },
  "language_info": {
   "codemirror_mode": {
    "name": "ipython",
    "version": 3
   },
   "file_extension": ".py",
   "mimetype": "text/x-python",
   "name": "python",
   "nbconvert_exporter": "python",
   "pygments_lexer": "ipython3",
   "version": "3.11.7"
  }
 },
 "nbformat": 4,
 "nbformat_minor": 5
}
